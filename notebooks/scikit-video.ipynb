{
 "cells": [
  {
   "cell_type": "code",
   "execution_count": 1,
   "metadata": {},
   "outputs": [],
   "source": [
    "from IPython.core.debugger import set_trace"
   ]
  },
  {
   "cell_type": "code",
   "execution_count": 2,
   "metadata": {},
   "outputs": [],
   "source": [
    "import skvideo.io as sio\n",
    "import skvideo.datasets as datasets\n",
    "import skvideo.measure as measure"
   ]
  },
  {
   "cell_type": "code",
   "execution_count": 3,
   "metadata": {},
   "outputs": [],
   "source": [
    "import numpy as np\n",
    "import matplotlib.pyplot as plt"
   ]
  },
  {
   "cell_type": "code",
   "execution_count": 46,
   "metadata": {},
   "outputs": [],
   "source": [
    "filename = \"goldeneye.mp4\"\n",
    "# filename = datasets.bikes()\n",
    "# data = sio.vread(filename)\n",
    "metadata = sio.ffprobe(filename)\n",
    "fps = metadata['video']['@avg_frame_rate']\n",
    "ffps = [ float(x) for x in fps.split('/') ]\n",
    "ffps = ffps[0] / ffps[1]\n",
    "frames = np.int(metadata['video']['@nb_frames'])\n",
    "width = np.int(metadata['video']['@width'])\n",
    "height = np.int(metadata['video']['@height'])"
   ]
  },
  {
   "cell_type": "code",
   "execution_count": null,
   "metadata": {},
   "outputs": [],
   "source": [
    "def batcher(iterable, width=5, step=1):\n",
    "    offset = 0\n",
    "    batch = []\n",
    "    while len(batch) < width:\n",
    "        try:\n",
    "            el = next(iterable)\n",
    "        except StopIteration:\n",
    "            "
   ]
  },
  {
   "cell_type": "code",
   "execution_count": 51,
   "metadata": {
    "scrolled": true
   },
   "outputs": [
    {
     "name": "stdout",
     "output_type": "stream",
     "text": [
      "Found scene cut in frames: [210]\n",
      "Found scene cut in frames: [259]\n",
      "Found scene cut in frames: [374]\n",
      "Found scene cut in frames: [650]\n",
      "Found scene cut in frames: [686, 690, 694]\n",
      "Found scene cut in frames: [818]\n",
      "Found scene cut in frames: [876]\n",
      "Found scene cut in frames: [972, 976, 980]\n",
      "Found scene cut in frames: [1019]\n",
      "Found scene cut in frames: [1055]\n",
      "Found scene cut in frames: [1099]\n",
      "Found scene cut in frames: [1174, 1178]\n",
      "Found scene cut in frames: [1226]\n",
      "Found scene cut in frames: [1260]\n",
      "Found scene cut in frames: [1281]\n",
      "Found scene cut in frames: [1334]\n",
      "Found scene cut in frames: [1365]\n"
     ]
    },
    {
     "ename": "KeyboardInterrupt",
     "evalue": "",
     "output_type": "error",
     "traceback": [
      "\u001b[0;31m---------------------------------------------------------------------------\u001b[0m",
      "\u001b[0;31mKeyboardInterrupt\u001b[0m                         Traceback (most recent call last)",
      "\u001b[0;32m<ipython-input-51-f61cd77b88b4>\u001b[0m in \u001b[0;36m<module>\u001b[0;34m()\u001b[0m\n\u001b[1;32m      6\u001b[0m     \u001b[0macc\u001b[0m\u001b[0;34m.\u001b[0m\u001b[0mappend\u001b[0m\u001b[0;34m(\u001b[0m\u001b[0mframe\u001b[0m\u001b[0;34m)\u001b[0m\u001b[0;34m\u001b[0m\u001b[0m\n\u001b[1;32m      7\u001b[0m     \u001b[0;32mif\u001b[0m \u001b[0mlen\u001b[0m\u001b[0;34m(\u001b[0m\u001b[0macc\u001b[0m\u001b[0;34m)\u001b[0m \u001b[0;34m>=\u001b[0m \u001b[0mffps\u001b[0m\u001b[0;34m:\u001b[0m\u001b[0;34m\u001b[0m\u001b[0m\n\u001b[0;32m----> 8\u001b[0;31m         \u001b[0mbatch_cuts\u001b[0m \u001b[0;34m=\u001b[0m \u001b[0mmeasure\u001b[0m\u001b[0;34m.\u001b[0m\u001b[0mscenedet\u001b[0m\u001b[0;34m(\u001b[0m\u001b[0macc\u001b[0m\u001b[0;34m,\u001b[0m \u001b[0mmethod\u001b[0m\u001b[0;34m=\u001b[0m\u001b[0;34m'histogram'\u001b[0m\u001b[0;34m,\u001b[0m \u001b[0mparameter1\u001b[0m\u001b[0;34m=\u001b[0m\u001b[0;36m1.5\u001b[0m\u001b[0;34m)\u001b[0m\u001b[0;34m[\u001b[0m\u001b[0;36m1\u001b[0m\u001b[0;34m:\u001b[0m\u001b[0;34m]\u001b[0m \u001b[0;31m# Don't count first cut (always true)\u001b[0m\u001b[0;34m\u001b[0m\u001b[0m\n\u001b[0m\u001b[1;32m      9\u001b[0m         \u001b[0;32mif\u001b[0m \u001b[0mlen\u001b[0m\u001b[0;34m(\u001b[0m\u001b[0mbatch_cuts\u001b[0m\u001b[0;34m)\u001b[0m \u001b[0;34m>\u001b[0m \u001b[0;36m0\u001b[0m\u001b[0;34m:\u001b[0m\u001b[0;34m\u001b[0m\u001b[0m\n\u001b[1;32m     10\u001b[0m             \u001b[0mbatch_cuts\u001b[0m \u001b[0;34m=\u001b[0m \u001b[0mnp\u001b[0m\u001b[0;34m.\u001b[0m\u001b[0madd\u001b[0m\u001b[0;34m(\u001b[0m\u001b[0mbatch_cuts\u001b[0m\u001b[0;34m,\u001b[0m \u001b[0mcounter\u001b[0m\u001b[0;34m)\u001b[0m\u001b[0;34m.\u001b[0m\u001b[0mtolist\u001b[0m\u001b[0;34m(\u001b[0m\u001b[0;34m)\u001b[0m\u001b[0;34m\u001b[0m\u001b[0m\n",
      "\u001b[0;32m~/.conda/envs/dissertation/lib/python3.6/site-packages/skvideo/measure/scene.py\u001b[0m in \u001b[0;36mscenedet\u001b[0;34m(videodata, method, parameter1, min_scene_length)\u001b[0m\n\u001b[1;32m    147\u001b[0m         \u001b[0;32mif\u001b[0m \u001b[0mparameter1\u001b[0m \u001b[0;32mis\u001b[0m \u001b[0;32mNone\u001b[0m\u001b[0;34m:\u001b[0m\u001b[0;34m\u001b[0m\u001b[0m\n\u001b[1;32m    148\u001b[0m             \u001b[0mparameter1\u001b[0m \u001b[0;34m=\u001b[0m \u001b[0;36m1.0\u001b[0m\u001b[0;34m\u001b[0m\u001b[0m\n\u001b[0;32m--> 149\u001b[0;31m         \u001b[0mdetected_scenes\u001b[0m \u001b[0;34m=\u001b[0m \u001b[0m_scenedet_histogram\u001b[0m\u001b[0;34m(\u001b[0m\u001b[0mvideodata\u001b[0m\u001b[0;34m,\u001b[0m \u001b[0mparameter1\u001b[0m\u001b[0;34m,\u001b[0m \u001b[0mmin_scene_length\u001b[0m\u001b[0;34m)\u001b[0m\u001b[0;34m\u001b[0m\u001b[0m\n\u001b[0m\u001b[1;32m    150\u001b[0m     \u001b[0;32melif\u001b[0m \u001b[0mmethod\u001b[0m \u001b[0;34m==\u001b[0m \u001b[0;34m\"edges\"\u001b[0m\u001b[0;34m:\u001b[0m\u001b[0;34m\u001b[0m\u001b[0m\n\u001b[1;32m    151\u001b[0m         \u001b[0;32mif\u001b[0m \u001b[0mparameter1\u001b[0m \u001b[0;32mis\u001b[0m \u001b[0;32mNone\u001b[0m\u001b[0;34m:\u001b[0m\u001b[0;34m\u001b[0m\u001b[0m\n",
      "\u001b[0;32m~/.conda/envs/dissertation/lib/python3.6/site-packages/skvideo/measure/scene.py\u001b[0m in \u001b[0;36m_scenedet_histogram\u001b[0;34m(videodata, parameter1, min_scene_len)\u001b[0m\n\u001b[1;32m     68\u001b[0m         \u001b[0mcurr\u001b[0m \u001b[0;34m=\u001b[0m \u001b[0mcurr\u001b[0m\u001b[0;34m[\u001b[0m\u001b[0;36m0\u001b[0m\u001b[0;34m,\u001b[0m \u001b[0;34m:\u001b[0m\u001b[0;34m,\u001b[0m \u001b[0;34m:\u001b[0m\u001b[0;34m,\u001b[0m \u001b[0;36m0\u001b[0m\u001b[0;34m]\u001b[0m\u001b[0;34m\u001b[0m\u001b[0m\n\u001b[1;32m     69\u001b[0m         \u001b[0mnxt\u001b[0m \u001b[0;34m=\u001b[0m \u001b[0mnxt\u001b[0m\u001b[0;34m[\u001b[0m\u001b[0;36m0\u001b[0m\u001b[0;34m,\u001b[0m \u001b[0;34m:\u001b[0m\u001b[0;34m,\u001b[0m \u001b[0;34m:\u001b[0m\u001b[0;34m,\u001b[0m \u001b[0;36m0\u001b[0m\u001b[0;34m]\u001b[0m\u001b[0;34m\u001b[0m\u001b[0m\n\u001b[0;32m---> 70\u001b[0;31m         \u001b[0mhist1\u001b[0m\u001b[0;34m,\u001b[0m \u001b[0mbins\u001b[0m \u001b[0;34m=\u001b[0m \u001b[0mnp\u001b[0m\u001b[0;34m.\u001b[0m\u001b[0mhistogram\u001b[0m\u001b[0;34m(\u001b[0m\u001b[0mcurr\u001b[0m\u001b[0;34m,\u001b[0m \u001b[0mbins\u001b[0m\u001b[0;34m=\u001b[0m\u001b[0;36m256\u001b[0m\u001b[0;34m,\u001b[0m \u001b[0mrange\u001b[0m\u001b[0;34m=\u001b[0m\u001b[0;34m(\u001b[0m\u001b[0;36m0\u001b[0m\u001b[0;34m,\u001b[0m \u001b[0;36m255\u001b[0m\u001b[0;34m)\u001b[0m\u001b[0;34m)\u001b[0m\u001b[0;34m\u001b[0m\u001b[0m\n\u001b[0m\u001b[1;32m     71\u001b[0m         \u001b[0mhist2\u001b[0m\u001b[0;34m,\u001b[0m \u001b[0mbins\u001b[0m \u001b[0;34m=\u001b[0m \u001b[0mnp\u001b[0m\u001b[0;34m.\u001b[0m\u001b[0mhistogram\u001b[0m\u001b[0;34m(\u001b[0m\u001b[0mnxt\u001b[0m\u001b[0;34m,\u001b[0m \u001b[0mbins\u001b[0m\u001b[0;34m=\u001b[0m\u001b[0;36m256\u001b[0m\u001b[0;34m,\u001b[0m \u001b[0mrange\u001b[0m\u001b[0;34m=\u001b[0m\u001b[0;34m(\u001b[0m\u001b[0;36m0\u001b[0m\u001b[0;34m,\u001b[0m \u001b[0;36m255\u001b[0m\u001b[0;34m)\u001b[0m\u001b[0;34m)\u001b[0m\u001b[0;34m\u001b[0m\u001b[0m\n\u001b[1;32m     72\u001b[0m \u001b[0;34m\u001b[0m\u001b[0m\n",
      "\u001b[0;32m~/.conda/envs/dissertation/lib/python3.6/site-packages/numpy/lib/function_base.py\u001b[0m in \u001b[0;36mhistogram\u001b[0;34m(***failed resolving arguments***)\u001b[0m\n\u001b[1;32m    803\u001b[0m \u001b[0;34m\u001b[0m\u001b[0m\n\u001b[1;32m    804\u001b[0m             \u001b[0;31m# We now compute the histogram using bincount\u001b[0m\u001b[0;34m\u001b[0m\u001b[0;34m\u001b[0m\u001b[0m\n\u001b[0;32m--> 805\u001b[0;31m             \u001b[0;32mif\u001b[0m \u001b[0mntype\u001b[0m\u001b[0;34m.\u001b[0m\u001b[0mkind\u001b[0m \u001b[0;34m==\u001b[0m \u001b[0;34m'c'\u001b[0m\u001b[0;34m:\u001b[0m\u001b[0;34m\u001b[0m\u001b[0m\n\u001b[0m\u001b[1;32m    806\u001b[0m                 n.real += np.bincount(indices, weights=tmp_w.real,\n\u001b[1;32m    807\u001b[0m                                       minlength=n_equal_bins)\n",
      "\u001b[0;31mKeyboardInterrupt\u001b[0m: "
     ]
    }
   ],
   "source": [
    "data = sio.vreader(filename)\n",
    "counter = 0\n",
    "acc = []\n",
    "scene_cuts = [0]\n",
    "for frame in data:\n",
    "    acc.append(frame)\n",
    "    if len(acc) >= ffps:\n",
    "        batch_cuts = measure.scenedet(acc, method='histogram', parameter1=1.5)[1:] # Don't count first cut (always true)\n",
    "        if len(batch_cuts) > 0:\n",
    "            batch_cuts = np.add(batch_cuts, counter).tolist()\n",
    "            print(\"Found scene cut in frames:\", batch_cuts)\n",
    "            scene_cuts += batch_cuts\n",
    "        counter += len(acc) - 2\n",
    "        acc = acc[-2:]\n",
    "print(counter, frames, len(acc))\n",
    "if counter < frames:\n",
    "    batch_cuts = measure.scenedet(acc, method='histogram', parameter1=1.5)[1:] # Don't count first cut (always true)\n",
    "    if len(batch_cuts) > 0:\n",
    "        batch_cuts = np.add(batch_cuts, counter).tolist()\n",
    "        print(\"Found scene cut in frames:\", batch_cuts)\n",
    "        scene_cuts += batch_cuts\n",
    "print(scene_cuts)"
   ]
  },
  {
   "cell_type": "code",
   "execution_count": 3,
   "metadata": {},
   "outputs": [],
   "source": [
    "def getPlot(edgelist1, t, w, h, T):\n",
    "    myDPI = 100.0\n",
    "    fig = plt.figure(figsize=(w/myDPI, h/myDPI), dpi=myDPI)\n",
    "    plt.title(\"histogram algorithm\")\n",
    "    plt.plot(edgelist1)\n",
    "    plt.plot([t, t], [0, 1])\n",
    "    plt.xlim([0, T])\n",
    "    plt.ylim([0, 1])\n",
    "    \n",
    "    plt.tight_layout()\n",
    "    fig.canvas.draw()\n",
    "\n",
    "    # Get the RGBA buffer from the figure\n",
    "    w,h = fig.canvas.get_width_height()\n",
    "    buf = np.fromstring(fig.canvas.tostring_argb(), dtype=np.uint8)\n",
    "    buf.shape = (h, w, 4)\n",
    "    plot = buf[:, :, 1:]\n",
    "    plt.close()\n",
    "\n",
    "    return plot"
   ]
  },
  {
   "cell_type": "code",
   "execution_count": 37,
   "metadata": {},
   "outputs": [
    {
     "name": "stdout",
     "output_type": "stream",
     "text": [
      "[  0  30  76 137 187 242]\n"
     ]
    }
   ],
   "source": [
    "scene_histo_idx = measure.scenedet(sio.vread(filename), method='histogram')\n",
    "scene_histo = np.zeros((frames,))\n",
    "scene_histo[scene_histo_idx] = 1"
   ]
  },
  {
   "cell_type": "code",
   "execution_count": 6,
   "metadata": {},
   "outputs": [],
   "source": [
    "writer = sio.FFmpegWriter(\"scene_cuts.mp4\", inputdict={\"-r\": fps})\n",
    "\n",
    "for i in range(frames):\n",
    "    out = np.zeros((height, width*2, 3))\n",
    "    chart = getPlot(scene_histo, i, width, height, frames)\n",
    "    out[:, :width] = data[i]\n",
    "    out[:, width:] = chart\n",
    "    writer.writeFrame(out)\n",
    "    \n",
    "writer.close()"
   ]
  },
  {
   "cell_type": "markdown",
   "metadata": {},
   "source": [
    "### Detected cuts\n",
    "---\n",
    "<video controls width=\"100%\" src=\"scene_cuts.mp4\" />"
   ]
  },
  {
   "cell_type": "code",
   "execution_count": null,
   "metadata": {},
   "outputs": [],
   "source": []
  }
 ],
 "metadata": {
  "kernelspec": {
   "display_name": "Python 3",
   "language": "python",
   "name": "python3"
  },
  "language_info": {
   "codemirror_mode": {
    "name": "ipython",
    "version": 3
   },
   "file_extension": ".py",
   "mimetype": "text/x-python",
   "name": "python",
   "nbconvert_exporter": "python",
   "pygments_lexer": "ipython3",
   "version": "3.6.4"
  }
 },
 "nbformat": 4,
 "nbformat_minor": 2
}
