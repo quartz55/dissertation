{
 "cells": [
  {
   "cell_type": "code",
   "execution_count": 1,
   "metadata": {},
   "outputs": [],
   "source": [
    "import time\n",
    "import numpy as np"
   ]
  },
  {
   "cell_type": "code",
   "execution_count": 2,
   "metadata": {},
   "outputs": [],
   "source": [
    "import torch\n",
    "import torch.nn.functional as F\n",
    "from torch import nn as nn, optim as optim\n",
    "from torch.autograd import Variable"
   ]
  },
  {
   "cell_type": "code",
   "execution_count": 3,
   "metadata": {},
   "outputs": [],
   "source": [
    "import torchvision as vis\n",
    "import torchvision.transforms as transforms"
   ]
  },
  {
   "cell_type": "code",
   "execution_count": 31,
   "metadata": {},
   "outputs": [],
   "source": [
    "%matplotlib inline\n",
    "import matplotlib.pyplot as plt"
   ]
  },
  {
   "cell_type": "markdown",
   "metadata": {},
   "source": [
    "### Image transformations and download MNIST dataset"
   ]
  },
  {
   "cell_type": "code",
   "execution_count": 9,
   "metadata": {},
   "outputs": [],
   "source": [
    "mnist_transforms = transforms.Compose([transforms.ToTensor()])\n",
    "mnist_train = vis.datasets.MNIST(root='./data/mnist', train=True, transform=mnist_transforms, download=True)\n",
    "mnist_test = vis.datasets.MNIST(root='./data/mnist', train=False, transform=mnist_transforms, download=True)"
   ]
  },
  {
   "cell_type": "code",
   "execution_count": 49,
   "metadata": {
    "scrolled": true
   },
   "outputs": [
    {
     "name": "stdout",
     "output_type": "stream",
     "text": [
      "Label: 5\n"
     ]
    },
    {
     "data": {
      "image/png": "[encoded data removed]",
      "text/plain": [
       "<matplotlib.figure.Figure at 0x7f8df0f4f160>"
      ]
     },
     "metadata": {},
     "output_type": "display_data"
    },
    {
     "name": "stdout",
     "output_type": "stream",
     "text": [
      "Label: 0\n"
     ]
    },
    {
     "data": {
      "image/png": "[encoded data removed]",
      "text/plain": [
       "<matplotlib.figure.Figure at 0x7f8df10dadd8>"
      ]
     },
     "metadata": {},
     "output_type": "display_data"
    },
    {
     "name": "stdout",
     "output_type": "stream",
     "text": [
      "Label: 4\n"
     ]
    },
    {
     "data": {
      "image/png": "[encoded data removed]",
      "text/plain": [
       "<matplotlib.figure.Figure at 0x7f8e6d8b3518>"
      ]
     },
     "metadata": {},
     "output_type": "display_data"
    },
    {
     "name": "stdout",
     "output_type": "stream",
     "text": [
      "Label: 1\n"
     ]
    },
    {
     "data": {
      "image/png": "[encoded data removed]",
      "text/plain": [
       "<matplotlib.figure.Figure at 0x7f8df133d7b8>"
      ]
     },
     "metadata": {},
     "output_type": "display_data"
    },
    {
     "name": "stdout",
     "output_type": "stream",
     "text": [
      "Label: 9\n"
     ]
    },
    {
     "data": {
      "image/png": "[encoded data removed]",
      "text/plain": [
       "<matplotlib.figure.Figure at 0x7f8df3182470>"
      ]
     },
     "metadata": {},
     "output_type": "display_data"
    }
   ],
   "source": [
    "# Show first 5 training samples\n",
    "for i in range(5):\n",
    "    batch, label = mnist_train[i]\n",
    "    image = batch[0].numpy()\n",
    "    print('Label: %d' % label)\n",
    "    plt.imshow(image, cmap='gray')\n",
    "    plt.show()"
   ]
  },
  {
   "cell_type": "code",
   "execution_count": 1,
   "metadata": {},
   "outputs": [
    {
     "ename": "NameError",
     "evalue": "name 'Variable' is not defined",
     "output_type": "error",
     "traceback": [
      "\u001b[0;31m---------------------------------------------------------------------------\u001b[0m",
      "\u001b[0;31mNameError\u001b[0m                                 Traceback (most recent call last)",
      "\u001b[0;32m<ipython-input-1-13be695e579a>\u001b[0m in \u001b[0;36m<module>\u001b[0;34m()\u001b[0m\n\u001b[1;32m      1\u001b[0m \u001b[0mtest_idx\u001b[0m \u001b[0;34m=\u001b[0m \u001b[0;36m1\u001b[0m\u001b[0;34m\u001b[0m\u001b[0m\n\u001b[0;32m----> 2\u001b[0;31m \u001b[0mtest_input\u001b[0m \u001b[0;34m=\u001b[0m \u001b[0mVariable\u001b[0m\u001b[0;34m(\u001b[0m\u001b[0mmnist_train\u001b[0m\u001b[0;34m[\u001b[0m\u001b[0mtest_idx\u001b[0m\u001b[0;34m]\u001b[0m\u001b[0;34m[\u001b[0m\u001b[0;36m0\u001b[0m\u001b[0;34m]\u001b[0m\u001b[0;34m.\u001b[0m\u001b[0mcuda\u001b[0m\u001b[0;34m(\u001b[0m\u001b[0;34m)\u001b[0m\u001b[0;34m)\u001b[0m\u001b[0;34m.\u001b[0m\u001b[0munsqueeze\u001b[0m\u001b[0;34m(\u001b[0m\u001b[0;36m0\u001b[0m\u001b[0;34m)\u001b[0m\u001b[0;34m\u001b[0m\u001b[0m\n\u001b[0m\u001b[1;32m      3\u001b[0m \u001b[0mtest_output\u001b[0m \u001b[0;34m=\u001b[0m \u001b[0mmodel\u001b[0m\u001b[0;34m(\u001b[0m\u001b[0mtest_input\u001b[0m\u001b[0;34m)\u001b[0m\u001b[0;34m\u001b[0m\u001b[0m\n\u001b[1;32m      4\u001b[0m \u001b[0mtest_prediction\u001b[0m\u001b[0;34m,\u001b[0m \u001b[0mindex\u001b[0m \u001b[0;34m=\u001b[0m \u001b[0mtorch\u001b[0m\u001b[0;34m.\u001b[0m\u001b[0mmax\u001b[0m\u001b[0;34m(\u001b[0m\u001b[0mtest_output\u001b[0m\u001b[0;34m,\u001b[0m \u001b[0;36m0\u001b[0m\u001b[0;34m)\u001b[0m\u001b[0;34m\u001b[0m\u001b[0m\n\u001b[1;32m      5\u001b[0m \u001b[0mplt\u001b[0m\u001b[0;34m.\u001b[0m\u001b[0mimshow\u001b[0m\u001b[0;34m(\u001b[0m\u001b[0mmnist_train\u001b[0m\u001b[0;34m[\u001b[0m\u001b[0mtest_idx\u001b[0m\u001b[0;34m]\u001b[0m\u001b[0;34m[\u001b[0m\u001b[0;36m0\u001b[0m\u001b[0;34m]\u001b[0m\u001b[0;34m[\u001b[0m\u001b[0;36m0\u001b[0m\u001b[0;34m]\u001b[0m\u001b[0;34m.\u001b[0m\u001b[0mnumpy\u001b[0m\u001b[0;34m(\u001b[0m\u001b[0;34m)\u001b[0m\u001b[0;34m,\u001b[0m \u001b[0mcmap\u001b[0m\u001b[0;34m=\u001b[0m\u001b[0;34m'gray'\u001b[0m\u001b[0;34m)\u001b[0m\u001b[0;34m\u001b[0m\u001b[0m\n",
      "\u001b[0;31mNameError\u001b[0m: name 'Variable' is not defined"
     ]
    }
   ],
   "source": [
    "test_idx = 1\n",
    "test_input = Variable(mnist_train[test_idx][0].cuda()).unsqueeze(0)\n",
    "test_output = model(test_input)\n",
    "test_prediction, index = torch.max(test_output, 0)\n",
    "plt.imshow(mnist_train[test_idx][0][0].numpy(), cmap='gray')\n",
    "print('Prediction: %d' % int(index))"
   ]
  },
  {
   "cell_type": "markdown",
   "metadata": {},
   "source": [
    "### Multi-threaded dataloaders"
   ]
  },
  {
   "cell_type": "code",
   "execution_count": 14,
   "metadata": {},
   "outputs": [],
   "source": [
    "trainloader = torch.utils.data.DataLoader(mnist_train, batch_size=64, shuffle=True, num_workers=4)\n",
    "testloader = torch.utils.data.DataLoader(mnist_test, batch_size=64, shuffle=True, num_workers=4)"
   ]
  },
  {
   "cell_type": "code",
   "execution_count": 5,
   "metadata": {},
   "outputs": [],
   "source": [
    "class MNISTClassifier(nn.Module):\n",
    "    def __init__(self):\n",
    "        super().__init__()\n",
    "        self.conv = nn.Sequential(\n",
    "            # Layer 1\n",
    "            nn.Conv2d(in_channels=1, out_channels=16, kernel_size=5, padding=1),\n",
    "            nn.Dropout(p=0.5),\n",
    "            nn.ReLU(),\n",
    "            nn.MaxPool2d(kernel_size=2, stride=2),\n",
    "            \n",
    "            # Layer 2\n",
    "            nn.Conv2d(16, 32, 3, padding=1),\n",
    "            nn.Dropout(0.5),\n",
    "            nn.ReLU(),\n",
    "            nn.MaxPool2d(2, stride=2),\n",
    "            \n",
    "            # Layer 3\n",
    "            nn.Conv2d(32, 64, 3, padding=1),\n",
    "            nn.Dropout(0.5),\n",
    "            nn.ReLU(),\n",
    "            nn.MaxPool2d(2, stride=2),\n",
    "            \n",
    "            # Layer 4\n",
    "            nn.Conv2d(64, 128, 3, padding=1),\n",
    "            nn.Dropout(0.5),\n",
    "            nn.ReLU(),\n",
    "            nn.MaxPool2d(2, stride=2)\n",
    "        )\n",
    "        self.clf = nn.Linear(128, 10)\n",
    "    \n",
    "    def forward(self, x):\n",
    "        return self.clf(self.conv(x).squeeze())"
   ]
  },
  {
   "cell_type": "code",
   "execution_count": 6,
   "metadata": {},
   "outputs": [],
   "source": [
    "cuda = torch.cuda.is_available()"
   ]
  },
  {
   "cell_type": "code",
   "execution_count": 7,
   "metadata": {},
   "outputs": [],
   "source": [
    "model = MNISTClassifier()\n",
    "if cuda:\n",
    "    model = model.cuda()\n",
    "optimizer = optim.Adam(model.parameters(), lr=1e-4)\n",
    "criterion = nn.CrossEntropyLoss()"
   ]
  },
  {
   "cell_type": "code",
   "execution_count": 14,
   "metadata": {
    "collapsed": true
   },
   "outputs": [
    {
     "name": "stdout",
     "output_type": "stream",
     "text": [
      "+----- Epoch 0\n",
      "| Loss: 0.974\n",
      "| Accuracy: 92.540\n",
      "+----- End Epoch 0\n",
      "+----- Epoch 1\n",
      "| Loss: 0.341\n",
      "| Accuracy: 95.630\n",
      "+----- End Epoch 1\n",
      "+----- Epoch 2\n",
      "| Loss: 0.254\n",
      "| Accuracy: 96.590\n",
      "+----- End Epoch 2\n",
      "+----- Epoch 3\n",
      "| Loss: 0.210\n",
      "| Accuracy: 97.010\n",
      "+----- End Epoch 3\n",
      "+----- Epoch 4\n",
      "| Loss: 0.179\n",
      "| Accuracy: 97.580\n",
      "+----- End Epoch 4\n",
      "+----- Epoch 5\n",
      "| Loss: 0.162\n",
      "| Accuracy: 97.670\n",
      "+----- End Epoch 5\n",
      "+----- Epoch 6\n",
      "| Loss: 0.147\n",
      "| Accuracy: 97.800\n",
      "+----- End Epoch 6\n",
      "+----- Epoch 7\n",
      "| Loss: 0.138\n",
      "| Accuracy: 98.180\n",
      "+----- End Epoch 7\n",
      "+----- Epoch 8\n",
      "| Loss: 0.124\n",
      "| Accuracy: 98.300\n",
      "+----- End Epoch 8\n",
      "+----- Epoch 9\n",
      "| Loss: 0.119\n",
      "| Accuracy: 98.370\n",
      "+----- End Epoch 9\n",
      "+----- Epoch 10\n",
      "| Loss: 0.112\n",
      "| Accuracy: 98.280\n",
      "+----- End Epoch 10\n",
      "+----- Epoch 11\n",
      "| Loss: 0.106\n",
      "| Accuracy: 98.570\n",
      "+----- End Epoch 11\n",
      "+----- Epoch 12\n",
      "| Loss: 0.102\n",
      "| Accuracy: 98.710\n",
      "+----- End Epoch 12\n",
      "+----- Epoch 13\n",
      "| Loss: 0.099\n",
      "| Accuracy: 98.540\n",
      "+----- End Epoch 13\n",
      "+----- Epoch 14\n",
      "| Loss: 0.094\n",
      "| Accuracy: 98.710\n",
      "+----- End Epoch 14\n",
      "+----- Epoch 15\n",
      "| Loss: 0.089\n",
      "| Accuracy: 98.660\n",
      "+----- End Epoch 15\n",
      "+----- Epoch 16\n",
      "| Loss: 0.087\n",
      "| Accuracy: 98.640\n",
      "+----- End Epoch 16\n",
      "+----- Epoch 17\n",
      "| Loss: 0.087\n",
      "| Accuracy: 98.670\n",
      "+----- End Epoch 17\n",
      "+----- Epoch 18\n",
      "| Loss: 0.083\n",
      "| Accuracy: 98.650\n",
      "+----- End Epoch 18\n",
      "+----- Epoch 19\n",
      "| Loss: 0.081\n",
      "| Accuracy: 98.560\n",
      "+----- End Epoch 19\n",
      "+----- Epoch 20\n",
      "| Loss: 0.077\n",
      "| Accuracy: 98.910\n",
      "+----- End Epoch 20\n",
      "+----- Epoch 21\n",
      "| Loss: 0.077\n",
      "| Accuracy: 98.870\n",
      "+----- End Epoch 21\n",
      "+----- Epoch 22\n",
      "| Loss: 0.074\n",
      "| Accuracy: 98.750\n",
      "+----- End Epoch 22\n",
      "+----- Epoch 23\n",
      "| Loss: 0.073\n",
      "| Accuracy: 98.840\n",
      "+----- End Epoch 23\n",
      "+----- Epoch 24\n",
      "| Loss: 0.070\n",
      "| Accuracy: 98.930\n",
      "+----- End Epoch 24\n",
      "+----- Epoch 25\n",
      "| Loss: 0.070\n",
      "| Accuracy: 98.980\n",
      "+----- End Epoch 25\n",
      "+----- Epoch 26\n",
      "| Loss: 0.066\n",
      "| Accuracy: 98.840\n",
      "+----- End Epoch 26\n",
      "+----- Epoch 27\n",
      "| Loss: 0.064\n",
      "| Accuracy: 98.850\n",
      "+----- End Epoch 27\n",
      "+----- Epoch 28\n",
      "| Loss: 0.065\n",
      "| Accuracy: 98.740\n",
      "+----- End Epoch 28\n",
      "+----- Epoch 29\n",
      "| Loss: 0.062\n",
      "| Accuracy: 99.040\n",
      "+----- End Epoch 29\n",
      "+----- Epoch 30\n",
      "| Loss: 0.061\n",
      "| Accuracy: 99.010\n",
      "+----- End Epoch 30\n",
      "+----- Epoch 31\n",
      "| Loss: 0.061\n",
      "| Accuracy: 99.080\n",
      "+----- End Epoch 31\n",
      "+----- Epoch 32\n",
      "| Loss: 0.059\n",
      "| Accuracy: 99.020\n",
      "+----- End Epoch 32\n",
      "+----- Epoch 33\n",
      "| Loss: 0.059\n",
      "| Accuracy: 98.990\n",
      "+----- End Epoch 33\n",
      "+----- Epoch 34\n",
      "| Loss: 0.058\n",
      "| Accuracy: 99.190\n",
      "+----- End Epoch 34\n",
      "+----- Epoch 35\n",
      "| Loss: 0.057\n",
      "| Accuracy: 99.160\n",
      "+----- End Epoch 35\n",
      "+----- Epoch 36\n",
      "| Loss: 0.053\n",
      "| Accuracy: 99.090\n",
      "+----- End Epoch 36\n",
      "+----- Epoch 37\n",
      "| Loss: 0.053\n",
      "| Accuracy: 99.110\n",
      "+----- End Epoch 37\n",
      "+----- Epoch 38\n",
      "| Loss: 0.053\n",
      "| Accuracy: 99.240\n",
      "+----- End Epoch 38\n",
      "+----- Epoch 39\n",
      "| Loss: 0.052\n",
      "| Accuracy: 99.220\n",
      "+----- End Epoch 39\n",
      "+----- Epoch 40\n",
      "| Loss: 0.052\n",
      "| Accuracy: 99.120\n",
      "+----- End Epoch 40\n",
      "+----- Epoch 41\n",
      "| Loss: 0.051\n",
      "| Accuracy: 99.190\n",
      "+----- End Epoch 41\n",
      "+----- Epoch 42\n",
      "| Loss: 0.048\n",
      "| Accuracy: 99.230\n",
      "+----- End Epoch 42\n",
      "+----- Epoch 43\n",
      "| Loss: 0.049\n",
      "| Accuracy: 99.250\n",
      "+----- End Epoch 43\n",
      "+----- Epoch 44\n",
      "| Loss: 0.050\n",
      "| Accuracy: 99.120\n",
      "+----- End Epoch 44\n",
      "+----- Epoch 45\n",
      "| Loss: 0.049\n",
      "| Accuracy: 99.280\n",
      "+----- End Epoch 45\n",
      "+----- Epoch 46\n",
      "| Loss: 0.046\n",
      "| Accuracy: 99.200\n",
      "+----- End Epoch 46\n",
      "+----- Epoch 47\n",
      "| Loss: 0.047\n",
      "| Accuracy: 99.080\n",
      "+----- End Epoch 47\n",
      "+----- Epoch 48\n",
      "| Loss: 0.045\n",
      "| Accuracy: 99.310\n",
      "+----- End Epoch 48\n",
      "+----- Epoch 49\n",
      "| Loss: 0.046\n",
      "| Accuracy: 99.230\n",
      "+----- End Epoch 49\n"
     ]
    }
   ],
   "source": [
    "for epoch in range(50):\n",
    "    # Train\n",
    "    model.train()\n",
    "    losses = []\n",
    "    for batch_idx, (inputs, targets) in enumerate(trainloader):\n",
    "        if cuda:\n",
    "            inputs, targets = inputs.cuda(), targets.cuda()\n",
    "            \n",
    "        optimizer.zero_grad()\n",
    "        inputs, targets = Variable(inputs), Variable(targets)\n",
    "        outputs = model(inputs)\n",
    "        loss = criterion(outputs, targets)\n",
    "        loss.backward()\n",
    "        optimizer.step()\n",
    "        losses.append(loss.data[0])\n",
    "    \n",
    "    # Evaluate\n",
    "    model.eval()\n",
    "    total = 0\n",
    "    correct = 0\n",
    "    for batch_idx, (inputs, targets) in enumerate(testloader):\n",
    "        if cuda:\n",
    "            inputs, targets = inputs.cuda(), targets.cuda()\n",
    "            \n",
    "        optimizer.zero_grad()\n",
    "        inputs, targets = Variable(inputs, volatile=True), Variable(targets, volatile=True)\n",
    "        outputs = model(inputs)\n",
    "        _, predicted = torch.max(outputs.data, 1)\n",
    "        total += targets.size(0)\n",
    "        correct += predicted.eq(targets.data).cpu().sum()\n",
    "    print('+----- Epoch %d' % epoch)\n",
    "    print('| Loss: %.3f' % np.mean(losses))\n",
    "    print('| Accuracy: %.3f' % (100. * correct/total))\n",
    "    print('+----- End Epoch %d' % epoch)"
   ]
  },
  {
   "cell_type": "code",
   "execution_count": 16,
   "metadata": {},
   "outputs": [],
   "source": [
    "torch.save(model.state_dict(), './models/4layer-mnist.pt')"
   ]
  },
  {
   "cell_type": "code",
   "execution_count": 8,
   "metadata": {},
   "outputs": [],
   "source": [
    "model.load_state_dict(torch.load('./models/4layer-mnist.pt'))"
   ]
  }
 ],
 "metadata": {
  "kernelspec": {
   "display_name": "Python 3",
   "language": "python",
   "name": "python3"
  },
  "language_info": {
   "codemirror_mode": {
    "name": "ipython",
    "version": 3
   },
   "file_extension": ".py",
   "mimetype": "text/x-python",
   "name": "python",
   "nbconvert_exporter": "python",
   "pygments_lexer": "ipython3",
   "version": "3.6.4"
  }
 },
 "nbformat": 4,
 "nbformat_minor": 2
}
