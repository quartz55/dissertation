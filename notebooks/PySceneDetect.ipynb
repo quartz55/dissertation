{
 "cells": [
  {
   "cell_type": "code",
   "execution_count": 1,
   "metadata": {},
   "outputs": [],
   "source": [
    "import scenedetect\n",
    "import numpy as np\n",
    "import skvideo.datasets as datasets"
   ]
  },
  {
   "cell_type": "code",
   "execution_count": 2,
   "metadata": {},
   "outputs": [],
   "source": [
    "filename = 'goldeneye.mp4'\n",
    "#filename = datasets.bikes()"
   ]
  },
  {
   "cell_type": "code",
   "execution_count": 3,
   "metadata": {},
   "outputs": [],
   "source": [
    "detector = scenedetect.detectors.ContentDetector()"
   ]
  },
  {
   "cell_type": "code",
   "execution_count": 4,
   "metadata": {},
   "outputs": [
    {
     "name": "stdout",
     "output_type": "stream",
     "text": [
      "[PySceneDetect] Parsing video goldeneye.mp4...\n",
      "[PySceneDetect] Video Resolution / Framerate: 1280 x 544 / 23.976 FPS\n",
      "[PySceneDetect] Subsampling Enabled (4x, Resolution = 320 x 136)\n",
      "Verify that the above parameters are correct (especially framerate, use --force-fps to correct if required).\n"
     ]
    }
   ],
   "source": [
    "scene_manager = scenedetect.SceneManager(detector = detector, downscale_factor=4)\n",
    "fps, frames, processed = scenedetect.detect_scenes_file(filename, scene_manager)"
   ]
  },
  {
   "cell_type": "code",
   "execution_count": 5,
   "metadata": {},
   "outputs": [
    {
     "name": "stdout",
     "output_type": "stream",
     "text": [
      "Scenes (20): [90, 210, 259, 374, 650, 818, 876, 1019, 1055, 1099, 1174, 1226, 1260, 1281, 1334, 1365, 1697, 1871, 1916, 1966]\n",
      "FPS: 23.976024 | Frames: 1980 | Processed: 1980\n"
     ]
    }
   ],
   "source": [
    "scenes = scene_manager.scene_list\n",
    "scenes_msec = [(1e3 * x) / fps for x in scenes]\n",
    "scenes_time = [scenedetect.timecodes.get_string(x) for x in scenes_msec]\n",
    "print(\"Scenes (%d):\" % len(scene_manager.scene_list), scene_manager.scene_list)\n",
    "print(\"FPS: %f | Frames: %d | Processed: %d\" % (fps, frames, processed))"
   ]
  },
  {
   "cell_type": "code",
   "execution_count": 6,
   "metadata": {},
   "outputs": [
    {
     "name": "stdout",
     "output_type": "stream",
     "text": [
      "Scene 0 at 00:00:03.753 [Frame 90 (3753ms)]\n",
      "Scene 1 at 00:00:08.758 [Frame 210 (8758ms)]\n",
      "Scene 2 at 00:00:10.802 [Frame 259 (10802ms)]\n",
      "Scene 3 at 00:00:15.598 [Frame 374 (15598ms)]\n",
      "Scene 4 at 00:00:27.110 [Frame 650 (27110ms)]\n",
      "Scene 5 at 00:00:34.117 [Frame 818 (34117ms)]\n",
      "Scene 6 at 00:00:36.536 [Frame 876 (36536ms)]\n",
      "Scene 7 at 00:00:42.500 [Frame 1019 (42500ms)]\n",
      "Scene 8 at 00:00:44.002 [Frame 1055 (44002ms)]\n",
      "Scene 9 at 00:00:45.837 [Frame 1099 (45837ms)]\n",
      "Scene 10 at 00:00:48.965 [Frame 1174 (48965ms)]\n",
      "Scene 11 at 00:00:51.134 [Frame 1226 (51134ms)]\n",
      "Scene 12 at 00:00:52.552 [Frame 1260 (52552ms)]\n",
      "Scene 13 at 00:00:53.428 [Frame 1281 (53428ms)]\n",
      "Scene 14 at 00:00:55.638 [Frame 1334 (55638ms)]\n",
      "Scene 15 at 00:00:56.931 [Frame 1365 (56931ms)]\n",
      "Scene 16 at 00:01:10.779 [Frame 1697 (70779ms)]\n",
      "Scene 17 at 00:01:18.036 [Frame 1871 (78036ms)]\n",
      "Scene 18 at 00:01:19.913 [Frame 1916 (79913ms)]\n",
      "Scene 19 at 00:01:21.998 [Frame 1966 (81998ms)]\n"
     ]
    }
   ],
   "source": [
    "for i, frame, ms, time in zip(range(len(scenes)), scenes, scenes_msec, scenes_time):\n",
    "    print(\"Scene %d at %s [Frame %d (%dms)]\" % (i, time, frame, ms))"
   ]
  },
  {
   "cell_type": "code",
   "execution_count": 15,
   "metadata": {},
   "outputs": [],
   "source": [
    "import matplotlib.pyplot as plt\n",
    "import imageio\n",
    "from vispy import plot as vp, io as vio\n",
    "import math\n",
    "\n",
    "\n",
    "def draw_scenes_video(video, scenes, out='scenes.mp4'):\n",
    "    reader: imageio.core.Reader = imageio.get_reader(video)\n",
    "    meta = reader.get_meta_data()\n",
    "    (width, height), frames, fps = meta['size'], meta['nframes'], meta['fps']\n",
    "    graph = np.zeros((frames,))\n",
    "    graph[scenes] = 1\n",
    "    \n",
    "    writer: imageio.core.Writer = imageio.get_writer(out, fps=fps)\n",
    "\n",
    "    fig = vp.Fig(show=False, size=(width, height))\n",
    "    fig1: vp.PlotWidget = fig[0, 0]\n",
    "    fig1.plot((range(frames), graph), marker_size=0, color=\"blue\", width=10, title=\"Detected Cuts\", xlabel=\"Frame\")\n",
    "    fig1.camera.set_range(margin=0)\n",
    "    seek_line: vp.LinePlot = fig1.plot(([0, 0], [0, 1]), width=10, edge_width=10)\n",
    "    \n",
    "    for i, frame in enumerate(reader):\n",
    "        # Generate plot frame\n",
    "        seek_line.set_data(([i, i], [0, 1]))\n",
    "        plot_frame = fig.render()\n",
    "        \n",
    "        # Join video + plot\n",
    "        out_frame = np.zeros((height, width*2, 3), dtype=np.uint8)\n",
    "        out_frame[:, :width] = frame\n",
    "        out_frame[:, width:] = plot_frame[:, :, :3]\n",
    "        writer.append_data(out_frame)\n",
    "        if (i % math.floor((fps * 2))) == 0:\n",
    "            print(\"Progress: %d%%\" % math.floor((i / frames) * 100))\n",
    "\n",
    "    reader.close()\n",
    "    writer.close()"
   ]
  },
  {
   "cell_type": "code",
   "execution_count": 16,
   "metadata": {
    "scrolled": true
   },
   "outputs": [
    {
     "name": "stderr",
     "output_type": "stream",
     "text": [
      "WARNING: could not determine DPI\n"
     ]
    },
    {
     "name": "stdout",
     "output_type": "stream",
     "text": [
      "Progress: 0%\n",
      "Progress: 2%\n",
      "Progress: 4%\n",
      "Progress: 7%\n",
      "Progress: 9%\n",
      "Progress: 11%\n",
      "Progress: 14%\n",
      "Progress: 16%\n",
      "Progress: 18%\n",
      "Progress: 21%\n",
      "Progress: 23%\n",
      "Progress: 26%\n",
      "Progress: 28%\n",
      "Progress: 30%\n",
      "Progress: 33%\n",
      "Progress: 35%\n",
      "Progress: 37%\n",
      "Progress: 40%\n",
      "Progress: 42%\n",
      "Progress: 45%\n",
      "Progress: 47%\n",
      "Progress: 49%\n",
      "Progress: 52%\n",
      "Progress: 54%\n",
      "Progress: 56%\n",
      "Progress: 59%\n",
      "Progress: 61%\n",
      "Progress: 64%\n",
      "Progress: 66%\n",
      "Progress: 68%\n",
      "Progress: 71%\n",
      "Progress: 73%\n",
      "Progress: 75%\n",
      "Progress: 78%\n",
      "Progress: 80%\n",
      "Progress: 83%\n",
      "Progress: 85%\n",
      "Progress: 87%\n",
      "Progress: 90%\n",
      "Progress: 92%\n",
      "Progress: 94%\n",
      "Progress: 97%\n",
      "Progress: 99%\n"
     ]
    },
    {
     "name": "stderr",
     "output_type": "stream",
     "text": [
      "/home/jcosta/.conda/envs/dissertation/lib/python3.6/site-packages/imageio/core/format.py:392: UserWarning: Could not read last frame of /home/jcosta/Documents/Workspace/scene-detection/goldeneye.mp4.\n",
      "  warn('Could not read last frame of %s.' % uri)\n"
     ]
    }
   ],
   "source": [
    "draw_scenes_video(filename, scenes, \"vispy_test.mp4\")"
   ]
  }
 ],
 "metadata": {
  "kernelspec": {
   "display_name": "Python 3",
   "language": "python",
   "name": "python3"
  },
  "language_info": {
   "codemirror_mode": {
    "name": "ipython",
    "version": 3
   },
   "file_extension": ".py",
   "mimetype": "text/x-python",
   "name": "python",
   "nbconvert_exporter": "python",
   "pygments_lexer": "ipython3",
   "version": "3.6.4"
  }
 },
 "nbformat": 4,
 "nbformat_minor": 2
}
